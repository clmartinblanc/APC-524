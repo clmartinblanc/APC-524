{
 "cells": [
  {
   "cell_type": "markdown",
   "id": "e1cf7b09-21da-4cce-884d-d637f68b5114",
   "metadata": {},
   "source": [
    "# Demo of Interacting with Video-Based Data"
   ]
  },
  {
   "cell_type": "code",
   "execution_count": null,
   "id": "b5578b60-3eb2-442d-af1f-4e46b0fbad64",
   "metadata": {},
   "outputs": [],
   "source": [
    "# Imports\n",
    "import cv2\n",
    "import matplotlib.pyplot as plt\n",
    "import matplotlib.animation as animation\n",
    "from matplotlib import colors\n",
    "from matplotlib.patches import Circle\n",
    "from matplotlib.path import Path\n",
    "import numpy as np\n",
    "from os.path import join, splitext\n",
    "from os import listdir\n",
    "import pandas as pd\n",
    "import sys\n",
    "import importlib\n",
    "import scipy.ndimage as ndi\n",
    "import pims\n",
    "import scipy.signal as si\n",
    "from matplotlib.patches import Ellipse, Circle"
   ]
  },
  {
   "cell_type": "code",
   "execution_count": 4,
   "id": "7610b8ec-6ebd-4b76-93b1-e18b18e74966",
   "metadata": {},
   "outputs": [],
   "source": [
    "# Define the data via an instance of the BLANK class\n",
    "\n",
    "#my_instance = FILL THIS IN!!!\n",
    "\n",
    "DATA_DIR = r\"./data/Data_RunA\"\n",
    "ext = \".png\"\n",
    "\n",
    "# Run script on the instance\n",
    "my_instance.run_script(edge_detection)\n",
    "\n",
    "# Run Plotting Script\n",
    "my_instance.run_script(video_plot)"
   ]
  }
 ],
 "metadata": {
  "kernelspec": {
   "display_name": "Python 3 (ipykernel)",
   "language": "python",
   "name": "python3"
  },
  "language_info": {
   "codemirror_mode": {
    "name": "ipython",
    "version": 3
   },
   "file_extension": ".py",
   "mimetype": "text/x-python",
   "name": "python",
   "nbconvert_exporter": "python",
   "pygments_lexer": "ipython3",
   "version": "3.12.0"
  }
 },
 "nbformat": 4,
 "nbformat_minor": 5
}
