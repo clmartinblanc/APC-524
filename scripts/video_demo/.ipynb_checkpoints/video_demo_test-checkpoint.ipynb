{
 "cells": [
  {
   "cell_type": "markdown",
   "id": "e1cf7b09-21da-4cce-884d-d637f68b5114",
   "metadata": {},
   "source": [
    "# Demo of Edge Detection on the Test Data Set"
   ]
  },
  {
   "cell_type": "code",
   "execution_count": 1,
   "id": "a72a9d7e-6242-4fc9-9cf5-989800ebeb4b",
   "metadata": {},
   "outputs": [],
   "source": [
    "## This notebook will be written as a function for the project. This is just to test different parameters."
   ]
  },
  {
   "cell_type": "code",
   "execution_count": 1,
   "id": "7610b8ec-6ebd-4b76-93b1-e18b18e74966",
   "metadata": {},
   "outputs": [],
   "source": [
    "# These parameters will be part of the function form input\n",
    "DATA_DIR = r'./data/Data_RunA'\n",
    "ext = '.png'"
   ]
  },
  {
   "cell_type": "code",
   "execution_count": 2,
   "id": "ff302eec-bf88-4c38-9532-59b8c563cb5e",
   "metadata": {},
   "outputs": [
    {
     "ename": "ModuleNotFoundError",
     "evalue": "No module named 'toolkit'",
     "output_type": "error",
     "traceback": [
      "\u001b[1;31m---------------------------------------------------------------------------\u001b[0m",
      "\u001b[1;31mModuleNotFoundError\u001b[0m                       Traceback (most recent call last)",
      "Cell \u001b[1;32mIn[2], line 14\u001b[0m\n\u001b[0;32m     12\u001b[0m \u001b[38;5;28;01mimport\u001b[39;00m \u001b[38;5;21;01msys\u001b[39;00m\n\u001b[0;32m     13\u001b[0m sys\u001b[38;5;241m.\u001b[39mpath\u001b[38;5;241m.\u001b[39mappend(\u001b[38;5;124m'\u001b[39m\u001b[38;5;124m../\u001b[39m\u001b[38;5;124m'\u001b[39m) \u001b[38;5;66;03m# not the best way to do this - fix\u001b[39;00m\n\u001b[1;32m---> 14\u001b[0m \u001b[38;5;28;01mfrom\u001b[39;00m \u001b[38;5;21;01mtoolkit\u001b[39;00m\u001b[38;5;21;01m.\u001b[39;00m\u001b[38;5;21;01mdisplay\u001b[39;00m \u001b[38;5;28;01mimport\u001b[39;00m Pointer, AnimateImagesSeries \u001b[38;5;66;03m# make sure the toolkit package is accessible \u001b[39;00m\n\u001b[0;32m     15\u001b[0m \u001b[38;5;28;01mfrom\u001b[39;00m \u001b[38;5;21;01mtoolkit\u001b[39;00m\u001b[38;5;21;01m.\u001b[39;00m\u001b[38;5;21;01mcameras\u001b[39;00m \u001b[38;5;28;01mimport\u001b[39;00m phantom\n\u001b[0;32m     16\u001b[0m \u001b[38;5;28;01mfrom\u001b[39;00m \u001b[38;5;21;01mtoolkit\u001b[39;00m\u001b[38;5;21;01m.\u001b[39;00m\u001b[38;5;21;01mimage\u001b[39;00m\u001b[38;5;21;01m.\u001b[39;00m\u001b[38;5;21;01mprocess\u001b[39;00m \u001b[38;5;28;01mimport\u001b[39;00m regionprops_to_dataframe\n",
      "\u001b[1;31mModuleNotFoundError\u001b[0m: No module named 'toolkit'"
     ]
    }
   ],
   "source": [
    "# Imports\n",
    "import cv2\n",
    "import matplotlib.pyplot as plt\n",
    "import matplotlib.animation as animation\n",
    "from matplotlib import colors\n",
    "from matplotlib.patches import Circle\n",
    "from matplotlib.path import Path\n",
    "import numpy as np\n",
    "from os.path import join, splitext\n",
    "from os import listdir\n",
    "import pandas as pd\n",
    "import sys\n",
    "sys.path.append('../') # not the best way to do this - fix\n",
    "from toolkit.display import Pointer, AnimateImagesSeries # make sure the toolkit package is accessible \n",
    "from toolkit.cameras import phantom\n",
    "from toolkit.image.process import regionprops_to_dataframe\n",
    "#from baneel_scripts.scripts.clusters.processing import mask_circle, cluster_contours, circularity\n",
    "import importlib\n",
    "from skimage import io, exposure, measure, feature, segmentation, filters, transform\n",
    "import scipy.ndimage as ndi \n",
    "import pims\n",
    "import toolkit.curvature as tkcurv\n",
    "import scipy.signal as si\n",
    "from matplotlib.patches import Ellipse, Circle"
   ]
  },
  {
   "cell_type": "code",
   "execution_count": 3,
   "id": "f52e71d8-f458-4c48-bb12-bdad083cb53d",
   "metadata": {
    "scrolled": true
   },
   "outputs": [
    {
     "ename": "IndentationError",
     "evalue": "expected an indented block after 'if' statement on line 11 (2894381363.py, line 14)",
     "output_type": "error",
     "traceback": [
      "\u001b[1;36m  Cell \u001b[1;32mIn[3], line 14\u001b[1;36m\u001b[0m\n\u001b[1;33m    detected_circles = np.uint16(np.around(detected_circles))\u001b[0m\n\u001b[1;37m    ^\u001b[0m\n\u001b[1;31mIndentationError\u001b[0m\u001b[1;31m:\u001b[0m expected an indented block after 'if' statement on line 11\n"
     ]
    }
   ],
   "source": [
    "im_list = sorted([splitext(f)[0] for f in listdir(DATA_DIR)\\\n",
    "           if f.endswith(ext)])\n",
    "\n",
    "for i in np.arange(0, len(im_list), 1):\n",
    "    #im = io.imread(join(DATA_DIR, im_list[i]+ext)).astype('uint8')\n",
    "    im = cv2.imread(join(DATA_DIR, im_list[i]+ext), cv2.IMREAD_COLOR)\n",
    "    gray = cv2.cvtColor(im, cv2.COLOR_BGR2GRAY)\n",
    "    \n",
    "    detected_circles = cv2.HoughCircles(gray, cv2.HOUGH_GRADIENT, 1, 20, param1 = 50, param2 = 30, minRadius = 1, maxRadius = 40)\n",
    "\n",
    "    if detected_circles is not None: \n",
    "  \n",
    "        # Convert the circle parameters a, b and r to integers. \n",
    "        detected_circles = np.uint16(np.around(detected_circles)) \n",
    "      \n",
    "        for pt in detected_circles[0, :]: \n",
    "            a, b, r = pt[0], pt[1], pt[2] \n",
    "      \n",
    "            # Draw the circumference of the circle. \n",
    "            cv2.circle(img, (a, b), r, (0, 255, 0), 2) \n",
    "      \n",
    "            # Draw a small circle (of radius 1) to show the center. \n",
    "            cv2.circle(img, (a, b), 1, (0, 0, 255), 3) \n",
    "            cv2.imshow(\"Detected Circle\", img) \n",
    "            cv2.waitKey(0) \n",
    "    "
   ]
  },
  {
   "cell_type": "code",
   "execution_count": 5,
   "id": "47b4db2e-b770-4229-87b3-dce26fb559a9",
   "metadata": {},
   "outputs": [],
   "source": [
    "def run_edge_detection(im, make_plot):\n",
    "    level = 100\n",
    "    #contours = measure.find_contours(im, level)\n",
    "\n",
    "    if make_plot:\n",
    "        # plot resulting detection:\n",
    "        fig,ax = plt.subplots()\n",
    "        ax.imshow(im, vmin=0, vmax=255, cmap='gray')\n",
    "        ax.set_title('Resulting detection')\n",
    "    \n",
    "        '''\n",
    "        for contour in kept_clusters:\n",
    "            x_contour_list_kept_clusters, y_contour_list_kept_clusters = [], []\n",
    "            for i in range(len(contour)):\n",
    "                x_contour_list_kept_clusters.append(contour[i][0])\n",
    "                y_contour_list_kept_clusters.append(contour[i][1])\n",
    "            ax.plot(y_contour_list_kept_clusters, x_contour_list_kept_clusters, 'r')\n",
    "        ax.set_xticks(())\n",
    "        ax.set_yticks(())\n",
    "        '''\n",
    "        plt.show\n",
    "        \n",
    "    return"
   ]
  },
  {
   "cell_type": "code",
   "execution_count": null,
   "id": "af63d089",
   "metadata": {},
   "outputs": [],
   "source": []
  }
 ],
 "metadata": {
  "kernelspec": {
   "display_name": "Python 3 (ipykernel)",
   "language": "python",
   "name": "python3"
  },
  "language_info": {
   "codemirror_mode": {
    "name": "ipython",
    "version": 3
   },
   "file_extension": ".py",
   "mimetype": "text/x-python",
   "name": "python",
   "nbconvert_exporter": "python",
   "pygments_lexer": "ipython3",
   "version": "3.12.0"
  }
 },
 "nbformat": 4,
 "nbformat_minor": 5
}
