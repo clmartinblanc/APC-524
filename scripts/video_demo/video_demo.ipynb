{
 "cells": [
  {
   "cell_type": "markdown",
   "id": "e1cf7b09-21da-4cce-884d-d637f68b5114",
   "metadata": {},
   "source": [
    "# Demo of Interacting with Video-Based Data"
   ]
  },
  {
   "cell_type": "code",
   "execution_count": 1,
   "id": "b5578b60-3eb2-442d-af1f-4e46b0fbad64",
   "metadata": {},
   "outputs": [],
   "source": [
    "# Imports\n",
    "import cv2\n",
    "import matplotlib.pyplot as plt\n",
    "from matplotlib import colors\n",
    "import numpy as np\n",
    "from os.path import join, splitext\n",
    "from os import listdir\n",
    "import pandas as pd\n",
    "import sys\n",
    "import importlib\n",
    "\n",
    "\n",
    "import video_scripts\n",
    "\n",
    "sys.path.append(\"../data_classes\")\n",
    "import data_classes"
   ]
  },
  {
   "cell_type": "code",
   "execution_count": 2,
   "id": "7610b8ec-6ebd-4b76-93b1-e18b18e74966",
   "metadata": {},
   "outputs": [],
   "source": [
    "# Define the data via an instance of the BLANK class\n",
    "\n",
    "my_instance = data_classes.VideoData(\n",
    "    \"./data/Data_RunA\", \".png\"\n",
    ")"
   ]
  },
  {
   "cell_type": "code",
   "execution_count": null,
   "id": "ca735b54-9b33-433d-95f9-2a14f3ddf88d",
   "metadata": {},
   "outputs": [],
   "source": [
    "# Run script on the instance\n",
    "my_instance.run_script(edge_detection)\n",
    "\n",
    "# Run Plotting Script\n",
    "my_instance.run_script(video_plot)"
   ]
  },
  {
   "cell_type": "code",
   "execution_count": 2,
   "id": "8e5476f3-f824-487d-abdf-4d0717115605",
   "metadata": {},
   "outputs": [
    {
     "name": "stdout",
     "output_type": "stream",
     "text": [
      "['C:\\\\Users\\\\skobl\\\\OneDrive\\\\Desktop\\\\Princeton\\\\Fall 2023\\\\APC524\\\\Project\\\\APC-524\\\\scripts\\\\video_demo', 'C:\\\\Users\\\\skobl\\\\anaconda3\\\\envs\\\\py312\\\\python312.zip', 'C:\\\\Users\\\\skobl\\\\anaconda3\\\\envs\\\\py312\\\\DLLs', 'C:\\\\Users\\\\skobl\\\\anaconda3\\\\envs\\\\py312\\\\Lib', 'C:\\\\Users\\\\skobl\\\\anaconda3\\\\envs\\\\py312', '', 'C:\\\\Users\\\\skobl\\\\anaconda3\\\\envs\\\\py312\\\\Lib\\\\site-packages', 'C:\\\\Users\\\\skobl\\\\OneDrive\\\\Desktop\\\\Princeton\\\\Fall 2023\\\\APC524\\\\HW\\\\Homework 3\\\\ci-exercise-current\\\\src', 'C:\\\\Users\\\\skobl\\\\anaconda3\\\\envs\\\\py312\\\\Lib\\\\site-packages\\\\win32', 'C:\\\\Users\\\\skobl\\\\anaconda3\\\\envs\\\\py312\\\\Lib\\\\site-packages\\\\win32\\\\lib', 'C:\\\\Users\\\\skobl\\\\anaconda3\\\\envs\\\\py312\\\\Lib\\\\site-packages\\\\Pythonwin']\n"
     ]
    }
   ],
   "source": [
    "print(sys.path)"
   ]
  },
  {
   "cell_type": "code",
   "execution_count": 9,
   "id": "6f7891d7-27a5-49e4-a74d-d10d934cd1f1",
   "metadata": {},
   "outputs": [
    {
     "data": {
      "text/plain": [
       "['data_classes', 'plotting_assist.py', 'plotting_test.py', 'video_demo']"
      ]
     },
     "execution_count": 9,
     "metadata": {},
     "output_type": "execute_result"
    }
   ],
   "source": [
    "listdir(\"..\")"
   ]
  },
  {
   "cell_type": "code",
   "execution_count": 9,
   "id": "85288d24-fe18-4efe-a681-0190b0ec7504",
   "metadata": {},
   "outputs": [
    {
     "name": "stdout",
     "output_type": "stream",
     "text": [
      "['runA_001', 'runA_002', 'runA_003', 'runA_004', 'runA_005', 'runA_006', 'runA_007', 'runA_008', 'runA_009', 'runA_010', 'runA_011', 'runA_012', 'runA_013', 'runA_014', 'runA_015', 'runA_016', 'runA_017', 'runA_018', 'runA_019', 'runA_020', 'runA_021', 'runA_022', 'runA_023', 'runA_024', 'runA_025', 'runA_026', 'runA_027', 'runA_028', 'runA_029', 'runA_030', 'runA_031', 'runA_032', 'runA_033', 'runA_034', 'runA_035', 'runA_036', 'runA_037', 'runA_038', 'runA_039', 'runA_040', 'runA_041', 'runA_042', 'runA_043', 'runA_044', 'runA_045', 'runA_046', 'runA_047', 'runA_048', 'runA_049', 'runA_050', 'runA_051', 'runA_052', 'runA_053', 'runA_054', 'runA_055', 'runA_056', 'runA_057', 'runA_058', 'runA_059', 'runA_060', 'runA_061', 'runA_062', 'runA_063', 'runA_064', 'runA_065', 'runA_066', 'runA_067', 'runA_068', 'runA_069', 'runA_070', 'runA_071', 'runA_072', 'runA_073', 'runA_074', 'runA_075', 'runA_076', 'runA_077', 'runA_078', 'runA_079', 'runA_080', 'runA_081', 'runA_082', 'runA_083', 'runA_084', 'runA_085', 'runA_086', 'runA_087', 'runA_088', 'runA_089', 'runA_090', 'runA_091', 'runA_092', 'runA_093', 'runA_094', 'runA_095', 'runA_096', 'runA_097', 'runA_098', 'runA_099', 'runA_100', 'runA_101', 'runA_102', 'runA_103', 'runA_104', 'runA_105', 'runA_106', 'runA_107', 'runA_108', 'runA_109', 'runA_110', 'runA_111', 'runA_112', 'runA_113', 'runA_114', 'runA_115', 'runA_116', 'runA_117', 'runA_118', 'runA_119', 'runA_120', 'runA_121', 'runA_122', 'runA_123', 'runA_124', 'runA_125', 'runA_126', 'runA_127', 'runA_128', 'runA_129', 'runA_130', 'runA_131', 'runA_132', 'runA_133', 'runA_134', 'runA_135', 'runA_136', 'runA_137', 'runA_138', 'runA_139', 'runA_140', 'runA_141', 'runA_142', 'runA_143', 'runA_144', 'runA_145', 'runA_146', 'runA_147', 'runA_148', 'runA_149', 'runA_150', 'runA_151', 'runA_152', 'runA_153', 'runA_154', 'runA_155', 'runA_156', 'runA_157', 'runA_158', 'runA_159', 'runA_160', 'runA_161', 'runA_162', 'runA_163', 'runA_164', 'runA_165', 'runA_166', 'runA_167', 'runA_168', 'runA_169', 'runA_170', 'runA_171', 'runA_172', 'runA_173', 'runA_174', 'runA_175', 'runA_176', 'runA_177', 'runA_178', 'runA_179', 'runA_180', 'runA_181', 'runA_182', 'runA_183', 'runA_184', 'runA_185', 'runA_186', 'runA_187', 'runA_188', 'runA_189', 'runA_190', 'runA_191', 'runA_192', 'runA_193', 'runA_194', 'runA_195', 'runA_196', 'runA_197', 'runA_198', 'runA_199', 'runA_200', 'runA_201']\n"
     ]
    }
   ],
   "source": [
    "print(my_instance.fileNames)"
   ]
  },
  {
   "cell_type": "code",
   "execution_count": null,
   "id": "93c1b397-edea-4b72-a8cc-e29d103fe677",
   "metadata": {},
   "outputs": [],
   "source": []
  }
 ],
 "metadata": {
  "kernelspec": {
   "display_name": "Python 3 (ipykernel)",
   "language": "python",
   "name": "python3"
  },
  "language_info": {
   "codemirror_mode": {
    "name": "ipython",
    "version": 3
   },
   "file_extension": ".py",
   "mimetype": "text/x-python",
   "name": "python",
   "nbconvert_exporter": "python",
   "pygments_lexer": "ipython3",
   "version": "3.12.0"
  }
 },
 "nbformat": 4,
 "nbformat_minor": 5
}
