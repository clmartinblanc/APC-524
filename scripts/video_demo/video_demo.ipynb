{
 "cells": [
  {
   "cell_type": "markdown",
   "id": "e1cf7b09-21da-4cce-884d-d637f68b5114",
   "metadata": {},
   "source": [
    "# Demo of Interacting with Video-Based Data"
   ]
  },
  {
   "cell_type": "code",
   "execution_count": 1,
   "id": "b5578b60-3eb2-442d-af1f-4e46b0fbad64",
   "metadata": {},
   "outputs": [],
   "source": [
    "# Imports\n",
    "import cv2\n",
    "import matplotlib.pyplot as plt\n",
    "from matplotlib import colors\n",
    "import numpy as np\n",
    "from os.path import join, splitext\n",
    "from os import listdir\n",
    "import pandas as pd\n",
    "import sys\n",
    "import importlib\n",
    "\n",
    "\n",
    "import video_scripts\n",
    "\n",
    "sys.path.append(\"../data_classes\")\n",
    "import data_classes"
   ]
  },
  {
   "cell_type": "code",
   "execution_count": 2,
   "id": "7610b8ec-6ebd-4b76-93b1-e18b18e74966",
   "metadata": {},
   "outputs": [],
   "source": [
    "# Define the data via an instance of the VideoData class\n",
    "\n",
    "my_instance = data_classes.VideoData(\n",
    "    \"./data\", \".png\"\n",
    ")"
   ]
  },
  {
   "cell_type": "code",
   "execution_count": null,
   "id": "ca735b54-9b33-433d-95f9-2a14f3ddf88d",
   "metadata": {},
   "outputs": [],
   "source": [
    "# Run script on the instance\n",
    "my_instance.run_script(edge_detection)\n",
    "\n",
    "# Run Plotting Script\n",
    "my_instance.run_script(video_plot)"
   ]
  },
  {
   "cell_type": "code",
   "execution_count": 8,
   "id": "8e5476f3-f824-487d-abdf-4d0717115605",
   "metadata": {},
   "outputs": [
    {
     "name": "stdout",
     "output_type": "stream",
     "text": [
      "['C:\\\\Users\\\\skobl\\\\OneDrive\\\\Desktop\\\\Princeton\\\\Fall 2023\\\\APC524\\\\Project\\\\APC-524\\\\scripts\\\\video_demo', 'C:\\\\Users\\\\skobl\\\\anaconda3\\\\envs\\\\py312\\\\python312.zip', 'C:\\\\Users\\\\skobl\\\\anaconda3\\\\envs\\\\py312\\\\DLLs', 'C:\\\\Users\\\\skobl\\\\anaconda3\\\\envs\\\\py312\\\\Lib', 'C:\\\\Users\\\\skobl\\\\anaconda3\\\\envs\\\\py312', '', 'C:\\\\Users\\\\skobl\\\\anaconda3\\\\envs\\\\py312\\\\Lib\\\\site-packages', 'C:\\\\Users\\\\skobl\\\\OneDrive\\\\Desktop\\\\Princeton\\\\Fall 2023\\\\APC524\\\\HW\\\\Homework 3\\\\ci-exercise-current\\\\src', 'C:\\\\Users\\\\skobl\\\\anaconda3\\\\envs\\\\py312\\\\Lib\\\\site-packages\\\\win32', 'C:\\\\Users\\\\skobl\\\\anaconda3\\\\envs\\\\py312\\\\Lib\\\\site-packages\\\\win32\\\\lib', 'C:\\\\Users\\\\skobl\\\\anaconda3\\\\envs\\\\py312\\\\Lib\\\\site-packages\\\\Pythonwin', '../data_classes', '../data_classes']\n"
     ]
    }
   ],
   "source": [
    "print(sys.path)"
   ]
  },
  {
   "cell_type": "code",
   "execution_count": 9,
   "id": "6f7891d7-27a5-49e4-a74d-d10d934cd1f1",
   "metadata": {},
   "outputs": [
    {
     "data": {
      "text/plain": [
       "['data_classes', 'plotting_assist.py', 'plotting_test.py', 'video_demo']"
      ]
     },
     "execution_count": 9,
     "metadata": {},
     "output_type": "execute_result"
    }
   ],
   "source": [
    "listdir(\"..\")"
   ]
  },
  {
   "cell_type": "code",
   "execution_count": 3,
   "id": "85288d24-fe18-4efe-a681-0190b0ec7504",
   "metadata": {},
   "outputs": [
    {
     "name": "stdout",
     "output_type": "stream",
     "text": [
      "Data_RunC\n"
     ]
    }
   ],
   "source": [
    "print(my_instance.data_folders[2])"
   ]
  },
  {
   "cell_type": "code",
   "execution_count": 6,
   "id": "93c1b397-edea-4b72-a8cc-e29d103fe677",
   "metadata": {},
   "outputs": [
    {
     "name": "stdout",
     "output_type": "stream",
     "text": [
      "['runC_001', 'runC_002', 'runC_003', 'runC_004', 'runC_005', 'runC_006', 'runC_007', 'runC_008', 'runC_009', 'runC_010', 'runC_011', 'runC_012', 'runC_013', 'runC_014', 'runC_015', 'runC_016', 'runC_017', 'runC_018', 'runC_019', 'runC_020', 'runC_021', 'runC_022', 'runC_023', 'runC_024', 'runC_025', 'runC_026', 'runC_027', 'runC_028', 'runC_029', 'runC_030', 'runC_031', 'runC_032', 'runC_033', 'runC_034', 'runC_035', 'runC_036', 'runC_037', 'runC_038', 'runC_039', 'runC_040', 'runC_041', 'runC_042', 'runC_043', 'runC_044', 'runC_045', 'runC_046', 'runC_047', 'runC_048', 'runC_049', 'runC_050', 'runC_051', 'runC_052', 'runC_053', 'runC_054', 'runC_055', 'runC_056', 'runC_057', 'runC_058', 'runC_059', 'runC_060', 'runC_061', 'runC_062', 'runC_063', 'runC_064', 'runC_065', 'runC_066', 'runC_067', 'runC_068', 'runC_069', 'runC_070', 'runC_071', 'runC_072', 'runC_073', 'runC_074', 'runC_075', 'runC_076', 'runC_077', 'runC_078', 'runC_079', 'runC_080', 'runC_081', 'runC_082', 'runC_083', 'runC_084', 'runC_085', 'runC_086', 'runC_087', 'runC_088', 'runC_089', 'runC_090', 'runC_091', 'runC_092', 'runC_093', 'runC_094', 'runC_095', 'runC_096', 'runC_097', 'runC_098', 'runC_099', 'runC_100', 'runC_101', 'runC_102', 'runC_103', 'runC_104', 'runC_105', 'runC_106', 'runC_107', 'runC_108', 'runC_109', 'runC_110', 'runC_111', 'runC_112', 'runC_113', 'runC_114', 'runC_115', 'runC_116', 'runC_117', 'runC_118', 'runC_119', 'runC_120', 'runC_121', 'runC_122', 'runC_123', 'runC_124', 'runC_125', 'runC_126', 'runC_127', 'runC_128', 'runC_129', 'runC_130', 'runC_131', 'runC_132', 'runC_133', 'runC_134', 'runC_135', 'runC_136', 'runC_137', 'runC_138', 'runC_139', 'runC_140', 'runC_141', 'runC_142', 'runC_143', 'runC_144', 'runC_145', 'runC_146', 'runC_147', 'runC_148', 'runC_149', 'runC_150', 'runC_151', 'runC_152', 'runC_153', 'runC_154', 'runC_155', 'runC_156', 'runC_157', 'runC_158', 'runC_159', 'runC_160', 'runC_161', 'runC_162', 'runC_163', 'runC_164', 'runC_165', 'runC_166', 'runC_167', 'runC_168', 'runC_169', 'runC_170', 'runC_171', 'runC_172', 'runC_173', 'runC_174', 'runC_175', 'runC_176', 'runC_177', 'runC_178', 'runC_179', 'runC_180', 'runC_181', 'runC_182', 'runC_183', 'runC_184', 'runC_185', 'runC_186', 'runC_187', 'runC_188', 'runC_189', 'runC_190', 'runC_191', 'runC_192', 'runC_193', 'runC_194', 'runC_195', 'runC_196', 'runC_197', 'runC_198', 'runC_199', 'runC_200', 'runC_201']\n"
     ]
    }
   ],
   "source": [
    "print(my_instance.file_names(2))"
   ]
  },
  {
   "cell_type": "code",
   "execution_count": 7,
   "id": "202343f9-f15e-4032-938e-18d027d476a6",
   "metadata": {},
   "outputs": [
    {
     "name": "stdout",
     "output_type": "stream",
     "text": [
      "./data/Data_RunC\n"
     ]
    }
   ],
   "source": [
    "print(my_instance.data_path + \"/\" + my_instance.data_folders[2])"
   ]
  },
  {
   "cell_type": "code",
   "execution_count": null,
   "id": "bdffada4-820f-41ac-82ae-d733932fbdd7",
   "metadata": {},
   "outputs": [],
   "source": []
  }
 ],
 "metadata": {
  "kernelspec": {
   "display_name": "Python 3 (ipykernel)",
   "language": "python",
   "name": "python3"
  },
  "language_info": {
   "codemirror_mode": {
    "name": "ipython",
    "version": 3
   },
   "file_extension": ".py",
   "mimetype": "text/x-python",
   "name": "python",
   "nbconvert_exporter": "python",
   "pygments_lexer": "ipython3",
   "version": "3.12.0"
  }
 },
 "nbformat": 4,
 "nbformat_minor": 5
}
