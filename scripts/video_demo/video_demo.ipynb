{
 "cells": [
  {
   "cell_type": "markdown",
   "id": "e1cf7b09-21da-4cce-884d-d637f68b5114",
   "metadata": {},
   "source": [
    "# Demo of Interacting with Video-Based Data"
   ]
  },
  {
   "cell_type": "code",
   "execution_count": 2,
   "id": "b5578b60-3eb2-442d-af1f-4e46b0fbad64",
   "metadata": {},
   "outputs": [],
   "source": [
    "# Imports\n",
    "import cv2\n",
    "import matplotlib.pyplot as plt\n",
    "from matplotlib import colors\n",
    "import numpy as np\n",
    "from os.path import join, splitext\n",
    "from os import listdir\n",
    "import pandas as pd\n",
    "import sys\n",
    "import importlib\n",
    "import os\n",
    "\n",
    "from video_scripts import edge_detection\n",
    "\n",
    "sys.path.append(\"../data_classes\")\n",
    "import data_classes"
   ]
  },
  {
   "cell_type": "code",
   "execution_count": 3,
   "id": "7610b8ec-6ebd-4b76-93b1-e18b18e74966",
   "metadata": {},
   "outputs": [],
   "source": [
    "# Define the data via an instance of the VideoData class\n",
    "\n",
    "my_instance = data_classes.VideoData(\n",
    "    \"./data\", \".png\"\n",
    ")"
   ]
  },
  {
   "cell_type": "code",
   "execution_count": 4,
   "id": "ca735b54-9b33-433d-95f9-2a14f3ddf88d",
   "metadata": {},
   "outputs": [],
   "source": [
    "# Run script on the instance\n",
    "my_instance.save_path = \"./output\" ## CHANGE THIS LATER TO BE DEFINED WITH CLASS!\n",
    "\n",
    "my_instance.run_script(edge_detection.edge_detection)\n",
    "\n"
   ]
  },
  {
   "cell_type": "code",
   "execution_count": null,
   "id": "f9ddddcd-0c46-41a1-885d-847dac4ff128",
   "metadata": {},
   "outputs": [],
   "source": [
    "# Run Plotting Script\n",
    "my_instance.run_script(video_plot)"
   ]
  },
  {
   "cell_type": "code",
   "execution_count": null,
   "id": "bdffada4-820f-41ac-82ae-d733932fbdd7",
   "metadata": {},
   "outputs": [],
   "source": [
    "print(sys.path)\n",
    "listdir(\"..\")\n",
    "print(my_instance.data_folders[2])\n",
    "print(my_instance.file_names(2))\n",
    "print(my_instance.data_path + \"/\" + my_instance.data_folders[2])"
   ]
  },
  {
   "cell_type": "code",
   "execution_count": 6,
   "id": "9b62e01a-895d-4343-a5d6-7affbbf86b0d",
   "metadata": {},
   "outputs": [
    {
     "name": "stdout",
     "output_type": "stream",
     "text": [
      "./ouput\n",
      "[]\n"
     ]
    }
   ],
   "source": [
    "print(my_instance.save_path)\n",
    "print(listdir(\"./output\"))"
   ]
  },
  {
   "cell_type": "code",
   "execution_count": 7,
   "id": "b9af670f-f6cc-4c47-9592-99247d8dc6d8",
   "metadata": {},
   "outputs": [],
   "source": []
  },
  {
   "cell_type": "code",
   "execution_count": null,
   "id": "ba090c3a-4381-4e46-a6b2-3094c70cdc29",
   "metadata": {},
   "outputs": [],
   "source": []
  }
 ],
 "metadata": {
  "kernelspec": {
   "display_name": "Python 3 (ipykernel)",
   "language": "python",
   "name": "python3"
  },
  "language_info": {
   "codemirror_mode": {
    "name": "ipython",
    "version": 3
   },
   "file_extension": ".py",
   "mimetype": "text/x-python",
   "name": "python",
   "nbconvert_exporter": "python",
   "pygments_lexer": "ipython3",
   "version": "3.12.0"
  }
 },
 "nbformat": 4,
 "nbformat_minor": 5
}
